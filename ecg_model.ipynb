{
  "nbformat": 4,
  "nbformat_minor": 0,
  "metadata": {
    "colab": {
      "name": "ecg_model.ipynb",
      "provenance": [],
      "collapsed_sections": [],
      "authorship_tag": "ABX9TyNmDyHdbCMqSUm/1LazB5Eu",
      "include_colab_link": true
    },
    "kernelspec": {
      "name": "python3",
      "display_name": "Python 3"
    },
    "language_info": {
      "name": "python"
    },
    "accelerator": "GPU"
  },
  "cells": [
    {
      "cell_type": "markdown",
      "metadata": {
        "id": "view-in-github",
        "colab_type": "text"
      },
      "source": [
        "<a href=\"https://colab.research.google.com/github/shaswatidash8/ECG_model/blob/main/ecg_model.ipynb\" target=\"_parent\"><img src=\"https://colab.research.google.com/assets/colab-badge.svg\" alt=\"Open In Colab\"/></a>"
      ]
    },
    {
      "cell_type": "markdown",
      "source": [
        "**Project Name: Deep Learning Modelling of ECG data**"
      ],
      "metadata": {
        "id": "bZPLWfd5lCtO"
      }
    },
    {
      "cell_type": "code",
      "execution_count": 1060,
      "metadata": {
        "id": "9H2IIWGejCvJ"
      },
      "outputs": [],
      "source": [
        "import numpy as np\n",
        "from matplotlib import pyplot\n",
        "import matplotlib.pyplot as plt # for plotting data and creating different charts.\n",
        "from sklearn.model_selection import KFold\n",
        "from tensorflow.keras.utils import to_categorical\n",
        "from tensorflow.keras.models import Model\n",
        "from tensorflow.keras.models import Sequential\n",
        "from tensorflow.keras.layers import Conv1D,LeakyReLU\n",
        "from tensorflow.keras.layers import Dense,Flatten,Dropout,MaxPool1D,GRU\n",
        "from tensorflow.keras.layers import GlobalAveragePooling1D,AveragePooling1D\n",
        "from tensorflow.keras.layers import BatchNormalization\n",
        "from tensorflow.keras.backend import clear_session\n",
        "from tensorflow.keras import backend as K\n",
        "from sklearn.metrics import confusion_matrix,classification_report\n",
        "import sklearn\n",
        "from sklearn.model_selection import train_test_split\n",
        "from sklearn.preprocessing import StandardScaler\n",
        "import tensorflow as tf\n",
        "tf.config.experimental.list_physical_devices('GPU')  \n",
        "from scipy.io import loadmat\n",
        "import numpy as np\n",
        "import PIL\n",
        "import cv2\n",
        "import os\n",
        "import seaborn as sns"
      ]
    },
    {
      "cell_type": "code",
      "source": [
        "# Print tensorfow (TF) version. Make sure you have at least tensorflow 2.1.0\n",
        "print(f\"Tensorflow version: {tf.version.VERSION}\")"
      ],
      "metadata": {
        "colab": {
          "base_uri": "https://localhost:8080/"
        },
        "id": "dVjRTBKGA7KI",
        "outputId": "92ef66b0-ce21-40bf-b038-e48c6633d8de"
      },
      "execution_count": 1061,
      "outputs": [
        {
          "output_type": "stream",
          "name": "stdout",
          "text": [
            "Tensorflow version: 2.7.0\n"
          ]
        }
      ]
    },
    {
      "cell_type": "code",
      "source": [
        "from google.colab import drive\n",
        "drive.mount('/content/drive')"
      ],
      "metadata": {
        "colab": {
          "base_uri": "https://localhost:8080/"
        },
        "id": "Ob-YlncojUjf",
        "outputId": "4bc0edba-d273-4cdd-a31d-2d7a36d231f0"
      },
      "execution_count": 1062,
      "outputs": [
        {
          "output_type": "stream",
          "name": "stdout",
          "text": [
            "Drive already mounted at /content/drive; to attempt to forcibly remount, call drive.mount(\"/content/drive\", force_remount=True).\n"
          ]
        }
      ]
    },
    {
      "cell_type": "code",
      "source": [
        "#used PTB Diagnostic ECG database\n",
        "#Link to database: https://physionet.org/content/ptbdb/1.0.0/\n",
        "x = np.asarray(loadmat('/content/drive/MyDrive/ECG_DATA/Xdata.mat')['Xdata']) #loaded input dataset\n",
        "y = np.asarray(loadmat('/content/drive/MyDrive/ECG_DATA/ydata.mat')['ydata']) #loaded output dataset"
      ],
      "metadata": {
        "id": "T6Rg1hUrjbd_"
      },
      "execution_count": 1063,
      "outputs": []
    },
    {
      "cell_type": "code",
      "source": [
        "print(x)"
      ],
      "metadata": {
        "colab": {
          "base_uri": "https://localhost:8080/"
        },
        "id": "HxwBtsoB55zZ",
        "outputId": "9dbebdf1-6a3f-4b3f-820d-cf0a8120a610"
      },
      "execution_count": 1064,
      "outputs": [
        {
          "output_type": "stream",
          "name": "stdout",
          "text": [
            "[[[-0.088  -0.326  -0.238  ... -0.32   -0.3225 -0.358 ]\n",
            "  [-0.103  -0.3325 -0.2295 ... -0.3065 -0.318  -0.3595]\n",
            "  [-0.1155 -0.339  -0.2235 ... -0.2925 -0.3155 -0.3605]\n",
            "  ...\n",
            "  [-0.0405 -0.3345 -0.294  ... -0.429  -0.4035 -0.3785]\n",
            "  [-0.0405 -0.3355 -0.295  ... -0.4305 -0.4035 -0.381 ]\n",
            "  [-0.0435 -0.34   -0.297  ... -0.429  -0.402  -0.381 ]]\n",
            "\n",
            " [[-0.145  -0.009   0.136  ... -0.1785 -0.2055 -0.244 ]\n",
            "  [-0.14   -0.011   0.1295 ... -0.159  -0.19   -0.2355]\n",
            "  [-0.1385 -0.0135  0.125  ... -0.1465 -0.1775 -0.2275]\n",
            "  ...\n",
            "  [-0.0555  0.1885  0.244  ...  0.1315  0.0585 -0.059 ]\n",
            "  [-0.052   0.1935  0.2455 ...  0.146   0.067  -0.055 ]\n",
            "  [-0.0535  0.1975  0.251  ...  0.1535  0.074  -0.05  ]]\n",
            "\n",
            " [[ 0.4205  2.069   1.6485 ...  0.769   0.516   0.341 ]\n",
            "  [ 0.4305  2.065   1.6345 ...  0.768   0.513   0.339 ]\n",
            "  [ 0.436   2.0665  1.63   ...  0.7605  0.5075  0.3345]\n",
            "  ...\n",
            "  [ 0.4665  1.782   1.3155 ...  1.0815  0.7235  0.434 ]\n",
            "  [ 0.468   1.7825  1.3145 ...  1.0805  0.722   0.4325]\n",
            "  [ 0.4725  1.781   1.3085 ...  1.083   0.723   0.432 ]]\n",
            "\n",
            " ...\n",
            "\n",
            " [[ 1.489   1.147  -0.3415 ...  1.7945  1.9005  0.884 ]\n",
            "  [ 1.5015  1.11   -0.391  ...  1.841   1.9555  0.8915]\n",
            "  [ 1.519   1.0375 -0.4805 ...  1.876   1.9965  0.8915]\n",
            "  ...\n",
            "  [ 0.9665  0.627  -0.339  ...  0.114   0.306   0.2235]\n",
            "  [ 0.967   0.6255 -0.341  ...  0.1145  0.3055  0.2225]\n",
            "  [ 0.961   0.62   -0.34   ...  0.1085  0.303   0.2215]]\n",
            "\n",
            " [[-0.359  -0.6225 -0.263  ...  0.3315  0.284   0.372 ]\n",
            "  [-0.3425 -0.6285 -0.286  ...  0.3365  0.29    0.3795]\n",
            "  [-0.322  -0.595  -0.273  ...  0.336   0.29    0.3775]\n",
            "  ...\n",
            "  [-0.398  -1.05   -0.652  ...  0.4425  0.3665  0.4945]\n",
            "  [-0.3625 -1.009  -0.646  ...  0.447   0.3715  0.503 ]\n",
            "  [-0.331  -0.9785 -0.6475 ...  0.4615  0.3845  0.5135]]\n",
            "\n",
            " [[ 0.532   0.448  -0.0845 ...  0.4935  0.551   0.451 ]\n",
            "  [ 0.5295  0.4455 -0.085  ...  0.4925  0.549   0.452 ]\n",
            "  [ 0.532   0.4475 -0.085  ...  0.4955  0.5485  0.456 ]\n",
            "  ...\n",
            "  [ 0.5655  0.339  -0.227  ...  0.4495  0.726   0.5945]\n",
            "  [ 0.5655  0.348  -0.218  ...  0.452   0.727   0.594 ]\n",
            "  [ 0.561   0.346  -0.2155 ...  0.4535  0.7275  0.594 ]]]\n"
          ]
        }
      ]
    },
    {
      "cell_type": "code",
      "source": [
        "print(y)"
      ],
      "metadata": {
        "colab": {
          "base_uri": "https://localhost:8080/"
        },
        "id": "wcHb6NIQ6DW_",
        "outputId": "bcd5cc83-cbe7-4431-c9ee-e7cfbc04e0f0"
      },
      "execution_count": 1065,
      "outputs": [
        {
          "output_type": "stream",
          "name": "stdout",
          "text": [
            "[[0]\n",
            " [0]\n",
            " [0]\n",
            " [0]\n",
            " [0]\n",
            " [0]\n",
            " [0]\n",
            " [0]\n",
            " [0]\n",
            " [0]\n",
            " [0]\n",
            " [0]\n",
            " [0]\n",
            " [0]\n",
            " [0]\n",
            " [0]\n",
            " [0]\n",
            " [0]\n",
            " [0]\n",
            " [0]\n",
            " [0]\n",
            " [0]\n",
            " [0]\n",
            " [0]\n",
            " [0]\n",
            " [0]\n",
            " [0]\n",
            " [0]\n",
            " [0]\n",
            " [0]\n",
            " [0]\n",
            " [0]\n",
            " [0]\n",
            " [0]\n",
            " [0]\n",
            " [0]\n",
            " [0]\n",
            " [0]\n",
            " [0]\n",
            " [0]\n",
            " [0]\n",
            " [0]\n",
            " [0]\n",
            " [0]\n",
            " [0]\n",
            " [0]\n",
            " [0]\n",
            " [0]\n",
            " [0]\n",
            " [0]\n",
            " [0]\n",
            " [0]\n",
            " [0]\n",
            " [0]\n",
            " [0]\n",
            " [0]\n",
            " [0]\n",
            " [0]\n",
            " [0]\n",
            " [0]\n",
            " [0]\n",
            " [0]\n",
            " [0]\n",
            " [0]\n",
            " [0]\n",
            " [0]\n",
            " [0]\n",
            " [0]\n",
            " [0]\n",
            " [0]\n",
            " [0]\n",
            " [0]\n",
            " [0]\n",
            " [1]\n",
            " [1]\n",
            " [1]\n",
            " [1]\n",
            " [1]\n",
            " [1]\n",
            " [1]\n",
            " [1]\n",
            " [1]\n",
            " [1]\n",
            " [1]\n",
            " [1]\n",
            " [1]\n",
            " [1]\n",
            " [1]\n",
            " [1]\n",
            " [1]\n",
            " [1]\n",
            " [1]\n",
            " [1]\n",
            " [1]\n",
            " [1]\n",
            " [1]\n",
            " [1]\n",
            " [1]\n",
            " [1]\n",
            " [1]\n",
            " [1]\n",
            " [1]\n",
            " [1]\n",
            " [1]\n",
            " [1]\n",
            " [1]\n",
            " [1]\n",
            " [1]\n",
            " [1]\n",
            " [1]\n",
            " [1]\n",
            " [1]\n",
            " [1]\n",
            " [1]\n",
            " [1]\n",
            " [1]\n",
            " [1]\n",
            " [1]\n",
            " [1]\n",
            " [1]\n",
            " [1]\n",
            " [1]\n",
            " [1]\n",
            " [1]\n",
            " [1]\n",
            " [1]\n",
            " [1]\n",
            " [1]\n",
            " [1]\n",
            " [1]\n",
            " [1]\n",
            " [1]\n",
            " [1]\n",
            " [1]\n",
            " [1]\n",
            " [1]\n",
            " [1]\n",
            " [1]\n",
            " [1]\n",
            " [1]\n",
            " [1]\n",
            " [1]\n",
            " [1]\n",
            " [1]\n",
            " [1]\n",
            " [1]\n",
            " [1]\n",
            " [1]\n",
            " [1]\n",
            " [1]\n",
            " [1]\n",
            " [1]\n",
            " [1]\n",
            " [1]\n",
            " [1]\n",
            " [1]\n",
            " [1]\n",
            " [1]\n",
            " [1]\n",
            " [1]\n",
            " [1]\n",
            " [1]\n",
            " [1]\n",
            " [1]\n",
            " [1]\n",
            " [1]\n",
            " [1]\n",
            " [1]\n",
            " [1]\n",
            " [1]\n",
            " [1]\n",
            " [1]\n",
            " [1]]\n"
          ]
        }
      ]
    },
    {
      "cell_type": "code",
      "source": [
        "x.shape #173 points, 4000 sample, 12 leads"
      ],
      "metadata": {
        "colab": {
          "base_uri": "https://localhost:8080/"
        },
        "id": "q92q6vdzjnDw",
        "outputId": "8a3de1be-3d10-4f2e-a385-c34cf7d4f54f"
      },
      "execution_count": 1066,
      "outputs": [
        {
          "output_type": "execute_result",
          "data": {
            "text/plain": [
              "(173, 4000, 12)"
            ]
          },
          "metadata": {},
          "execution_count": 1066
        }
      ]
    },
    {
      "cell_type": "code",
      "source": [
        "y.shape #0-normal ECG, 1-myocardial infraction"
      ],
      "metadata": {
        "colab": {
          "base_uri": "https://localhost:8080/"
        },
        "id": "BuwL-cbujqAh",
        "outputId": "f7f40c17-27f5-4fe9-d558-7d96246ab0e3"
      },
      "execution_count": 1067,
      "outputs": [
        {
          "output_type": "execute_result",
          "data": {
            "text/plain": [
              "(173, 1)"
            ]
          },
          "metadata": {},
          "execution_count": 1067
        }
      ]
    },
    {
      "cell_type": "code",
      "source": [
        "plt.plot(x[10,:,7]) #normal ECG signal"
      ],
      "metadata": {
        "colab": {
          "base_uri": "https://localhost:8080/",
          "height": 282
        },
        "id": "kfAktAMAjr-Y",
        "outputId": "f2d85d60-5ac3-4de8-beff-5cf784019171"
      },
      "execution_count": 1068,
      "outputs": [
        {
          "output_type": "execute_result",
          "data": {
            "text/plain": [
              "[<matplotlib.lines.Line2D at 0x7fa3777cb210>]"
            ]
          },
          "metadata": {},
          "execution_count": 1068
        },
        {
          "output_type": "display_data",
          "data": {
            "image/png": "[encoded data removed]",
            "text/plain": [
              "<Figure size 432x288 with 1 Axes>"
            ]
          },
          "metadata": {
            "needs_background": "light"
          }
        }
      ]
    },
    {
      "cell_type": "code",
      "source": [
        "plt.plot(x[120,:,7]) #Myocardial infarction ECG signal"
      ],
      "metadata": {
        "colab": {
          "base_uri": "https://localhost:8080/",
          "height": 282
        },
        "id": "rS1qN6aajznA",
        "outputId": "bda77193-542a-407a-fb52-35c2f00ed690"
      },
      "execution_count": 1069,
      "outputs": [
        {
          "output_type": "execute_result",
          "data": {
            "text/plain": [
              "[<matplotlib.lines.Line2D at 0x7fa377aa39d0>]"
            ]
          },
          "metadata": {},
          "execution_count": 1069
        },
        {
          "output_type": "display_data",
          "data": {
            "image/png": "[encoded data removed]",
            "text/plain": [
              "<Figure size 432x288 with 1 Axes>"
            ]
          },
          "metadata": {
            "needs_background": "light"
          }
        }
      ]
    },
    {
      "cell_type": "code",
      "source": [
        "#preparing the training and testing datasets\n",
        "x_train, x_test, y_train, y_test = train_test_split(x, y, test_size=0.3, random_state=1)\n",
        "x_train, x_val, y_train, y_val = train_test_split(x_train, y_train, test_size=0.1, random_state=1)"
      ],
      "metadata": {
        "id": "bxA-_1YglxOY"
      },
      "execution_count": 1070,
      "outputs": []
    },
    {
      "cell_type": "code",
      "source": [
        "print(x_train.shape, x_test.shape, y_train.shape, y_test.shape)"
      ],
      "metadata": {
        "colab": {
          "base_uri": "https://localhost:8080/"
        },
        "id": "OEaQS9bGKyRM",
        "outputId": "c08b4423-3bd3-4f15-fb9f-593ab12b350f"
      },
      "execution_count": 1071,
      "outputs": [
        {
          "output_type": "stream",
          "name": "stdout",
          "text": [
            "(108, 4000, 12) (52, 4000, 12) (108, 1) (52, 1)\n"
          ]
        }
      ]
    },
    {
      "cell_type": "code",
      "source": [
        "y_val.shape"
      ],
      "metadata": {
        "colab": {
          "base_uri": "https://localhost:8080/"
        },
        "id": "DtojL1gFOenV",
        "outputId": "0edf15f7-a1bc-40da-c171-0726dd05a7c9"
      },
      "execution_count": 1072,
      "outputs": [
        {
          "output_type": "execute_result",
          "data": {
            "text/plain": [
              "(13, 1)"
            ]
          },
          "metadata": {},
          "execution_count": 1072
        }
      ]
    },
    {
      "cell_type": "code",
      "source": [
        "#def model_define():\n",
        " # model=Sequential()\n",
        "  #model.add(Conv1D(filters=32, kernel_size=7, activation='relu',input_shape=(4000,12)))\n",
        "  #model.add(Conv1D(filters=64, kernel_size=5, activation='relu'))\n",
        "  #model.add(BatchNormalization())\n",
        "  #model.add(Dropout(0.5))\n",
        "  #model.add(Flatten())\n",
        "  #model.add(Dense(500, activation='relu'))\n",
        "  #model.add(Dense(60, activation='relu'))\n",
        "  #model.add(Dropout(0.1))\n",
        "  #model.add(Dense(1,activation='sigmoid'))\n",
        "  #return model"
      ],
      "metadata": {
        "id": "CRZj_FqplRAg"
      },
      "execution_count": 1073,
      "outputs": []
    },
    {
      "cell_type": "code",
      "source": [
        "#CNN model\n",
        "def model_define():\n",
        "  clear_session()\n",
        "  model=Sequential()\n",
        "  model.add(Conv1D(filters=16, kernel_size=5, strides=1, input_shape=(4000,12))) #1\n",
        "  model.add(BatchNormalization())\n",
        "  model.add(LeakyReLU())\n",
        "  model.add(MaxPool1D(pool_size=2,strides=2)) #2\n",
        "  model.add(Conv1D(filters=32, kernel_size=5, strides=1)) #3\n",
        "  model.add(LeakyReLU())\n",
        "  model.add(MaxPool1D(pool_size=2,strides=2)) #4\n",
        "  model.add(Dropout(0.5))\n",
        "  model.add(Conv1D(filters=64, kernel_size=5, strides=1)) #5\n",
        "  model.add(LeakyReLU())\n",
        "  model.add(AveragePooling1D(pool_size=4,strides=2)) #6\n",
        "  model.add(Dropout(0.5))\n",
        "  model.add(Conv1D(filters=128, kernel_size=5, strides=1)) #7\n",
        "  model.add(LeakyReLU())\n",
        "  model.add(AveragePooling1D(pool_size=2,strides=2)) #8\n",
        "  model.add(Conv1D(filters=256, kernel_size=5, strides=1)) #9\n",
        "  model.add(LeakyReLU())\n",
        "  model.add(GlobalAveragePooling1D()) #10\n",
        "  model.add(Dense(1,activation='sigmoid')) #11\n",
        "  return model"
      ],
      "metadata": {
        "id": "g502eBHErLtt"
      },
      "execution_count": 1074,
      "outputs": []
    },
    {
      "cell_type": "code",
      "source": [
        "#K.clear_session()\n",
        "modelf = model_define()\n",
        "\n",
        "print(modelf.summary())"
      ],
      "metadata": {
        "colab": {
          "base_uri": "https://localhost:8080/"
        },
        "id": "2_geQK8wlVmR",
        "outputId": "2dc8fe2e-83e3-471c-eb8a-b6e5c90a197a"
      },
      "execution_count": 1075,
      "outputs": [
        {
          "output_type": "stream",
          "name": "stdout",
          "text": [
            "Model: \"sequential\"\n",
            "_________________________________________________________________\n",
            " Layer (type)                Output Shape              Param #   \n",
            "=================================================================\n",
            " conv1d (Conv1D)             (None, 3996, 16)          976       \n",
            "                                                                 \n",
            " batch_normalization (BatchN  (None, 3996, 16)         64        \n",
            " ormalization)                                                   \n",
            "                                                                 \n",
            " leaky_re_lu (LeakyReLU)     (None, 3996, 16)          0         \n",
            "                                                                 \n",
            " max_pooling1d (MaxPooling1D  (None, 1998, 16)         0         \n",
            " )                                                               \n",
            "                                                                 \n",
            " conv1d_1 (Conv1D)           (None, 1994, 32)          2592      \n",
            "                                                                 \n",
            " leaky_re_lu_1 (LeakyReLU)   (None, 1994, 32)          0         \n",
            "                                                                 \n",
            " max_pooling1d_1 (MaxPooling  (None, 997, 32)          0         \n",
            " 1D)                                                             \n",
            "                                                                 \n",
            " dropout (Dropout)           (None, 997, 32)           0         \n",
            "                                                                 \n",
            " conv1d_2 (Conv1D)           (None, 993, 64)           10304     \n",
            "                                                                 \n",
            " leaky_re_lu_2 (LeakyReLU)   (None, 993, 64)           0         \n",
            "                                                                 \n",
            " average_pooling1d (AverageP  (None, 495, 64)          0         \n",
            " ooling1D)                                                       \n",
            "                                                                 \n",
            " dropout_1 (Dropout)         (None, 495, 64)           0         \n",
            "                                                                 \n",
            " conv1d_3 (Conv1D)           (None, 491, 128)          41088     \n",
            "                                                                 \n",
            " leaky_re_lu_3 (LeakyReLU)   (None, 491, 128)          0         \n",
            "                                                                 \n",
            " average_pooling1d_1 (Averag  (None, 245, 128)         0         \n",
            " ePooling1D)                                                     \n",
            "                                                                 \n",
            " conv1d_4 (Conv1D)           (None, 241, 256)          164096    \n",
            "                                                                 \n",
            " leaky_re_lu_4 (LeakyReLU)   (None, 241, 256)          0         \n",
            "                                                                 \n",
            " global_average_pooling1d (G  (None, 256)              0         \n",
            " lobalAveragePooling1D)                                          \n",
            "                                                                 \n",
            " dense (Dense)               (None, 1)                 257       \n",
            "                                                                 \n",
            "=================================================================\n",
            "Total params: 219,377\n",
            "Trainable params: 219,345\n",
            "Non-trainable params: 32\n",
            "_________________________________________________________________\n",
            "None\n"
          ]
        }
      ]
    },
    {
      "cell_type": "code",
      "source": [
        "modelf.compile(loss='binary_crossentropy', optimizer='adam', metrics=['accuracy']) \n",
        "history=modelf.fit(x_train, y_train, validation_data=(x_val, y_val), epochs=20)\n",
        "print(history)"
      ],
      "metadata": {
        "colab": {
          "base_uri": "https://localhost:8080/"
        },
        "id": "w7vvsKW4lb6g",
        "outputId": "db6ba31a-d297-45b8-93c1-2b995397c6ed"
      },
      "execution_count": 1076,
      "outputs": [
        {
          "output_type": "stream",
          "name": "stdout",
          "text": [
            "Epoch 1/20\n",
            "4/4 [==============================] - 2s 135ms/step - loss: 0.7233 - accuracy: 0.5833 - val_loss: 0.5874 - val_accuracy: 0.7692\n",
            "Epoch 2/20\n",
            "4/4 [==============================] - 0s 49ms/step - loss: 0.6977 - accuracy: 0.5093 - val_loss: 0.5719 - val_accuracy: 0.8462\n",
            "Epoch 3/20\n",
            "4/4 [==============================] - 0s 42ms/step - loss: 0.6540 - accuracy: 0.5833 - val_loss: 0.6154 - val_accuracy: 0.6923\n",
            "Epoch 4/20\n",
            "4/4 [==============================] - 0s 41ms/step - loss: 0.6377 - accuracy: 0.5833 - val_loss: 0.5923 - val_accuracy: 0.6923\n",
            "Epoch 5/20\n",
            "4/4 [==============================] - 0s 40ms/step - loss: 0.6113 - accuracy: 0.5833 - val_loss: 0.6229 - val_accuracy: 0.7692\n",
            "Epoch 6/20\n",
            "4/4 [==============================] - 0s 43ms/step - loss: 0.6048 - accuracy: 0.6389 - val_loss: 0.6407 - val_accuracy: 0.5385\n",
            "Epoch 7/20\n",
            "4/4 [==============================] - 0s 40ms/step - loss: 0.5935 - accuracy: 0.6296 - val_loss: 0.6092 - val_accuracy: 0.7692\n",
            "Epoch 8/20\n",
            "4/4 [==============================] - 0s 40ms/step - loss: 0.5665 - accuracy: 0.6204 - val_loss: 0.5457 - val_accuracy: 0.7692\n",
            "Epoch 9/20\n",
            "4/4 [==============================] - 0s 40ms/step - loss: 0.5842 - accuracy: 0.6296 - val_loss: 0.5109 - val_accuracy: 0.7692\n",
            "Epoch 10/20\n",
            "4/4 [==============================] - 0s 42ms/step - loss: 0.5637 - accuracy: 0.6574 - val_loss: 0.7293 - val_accuracy: 0.4615\n",
            "Epoch 11/20\n",
            "4/4 [==============================] - 0s 40ms/step - loss: 0.5489 - accuracy: 0.6944 - val_loss: 0.7878 - val_accuracy: 0.3846\n",
            "Epoch 12/20\n",
            "4/4 [==============================] - 0s 43ms/step - loss: 0.5525 - accuracy: 0.7407 - val_loss: 0.6831 - val_accuracy: 0.5385\n",
            "Epoch 13/20\n",
            "4/4 [==============================] - 0s 40ms/step - loss: 0.5288 - accuracy: 0.7315 - val_loss: 0.6184 - val_accuracy: 0.6923\n",
            "Epoch 14/20\n",
            "4/4 [==============================] - 0s 40ms/step - loss: 0.4985 - accuracy: 0.7222 - val_loss: 0.7374 - val_accuracy: 0.5385\n",
            "Epoch 15/20\n",
            "4/4 [==============================] - 0s 38ms/step - loss: 0.6616 - accuracy: 0.7130 - val_loss: 0.6861 - val_accuracy: 0.6154\n",
            "Epoch 16/20\n",
            "4/4 [==============================] - 0s 40ms/step - loss: 0.4993 - accuracy: 0.7037 - val_loss: 0.6836 - val_accuracy: 0.6154\n",
            "Epoch 17/20\n",
            "4/4 [==============================] - 0s 40ms/step - loss: 0.5612 - accuracy: 0.6667 - val_loss: 0.7018 - val_accuracy: 0.6154\n",
            "Epoch 18/20\n",
            "4/4 [==============================] - 0s 39ms/step - loss: 0.5329 - accuracy: 0.7407 - val_loss: 0.7379 - val_accuracy: 0.4615\n",
            "Epoch 19/20\n",
            "4/4 [==============================] - 0s 37ms/step - loss: 0.5164 - accuracy: 0.7500 - val_loss: 0.7008 - val_accuracy: 0.5385\n",
            "Epoch 20/20\n",
            "4/4 [==============================] - 0s 37ms/step - loss: 0.4973 - accuracy: 0.7407 - val_loss: 0.7075 - val_accuracy: 0.5385\n",
            "<keras.callbacks.History object at 0x7fa3779dfa90>\n"
          ]
        }
      ]
    },
    {
      "cell_type": "code",
      "source": [
        "loss_train = history.history['accuracy']\n",
        "loss_val = history.history['val_accuracy']\n",
        "epochs = range(0,20)\n",
        "plt.plot(epochs, loss_train, 'g', label='training accuracy')\n",
        "plt.plot(epochs, loss_val, 'b', label='validation accuracy')\n",
        "plt.title('Training and Validation accuracy')\n",
        "plt.xlabel('Epochs')\n",
        "plt.ylabel('Accuracy')\n",
        "plt.legend()\n",
        "plt.show()"
      ],
      "metadata": {
        "id": "wyv88ibNlvbR",
        "colab": {
          "base_uri": "https://localhost:8080/",
          "height": 295
        },
        "outputId": "ad1254c1-160b-4dfd-b2dd-48d63198e3f7"
      },
      "execution_count": 1077,
      "outputs": [
        {
          "output_type": "display_data",
          "data": {
            "image/png": "[encoded data removed]",
            "text/plain": [
              "<Figure size 432x288 with 1 Axes>"
            ]
          },
          "metadata": {
            "needs_background": "light"
          }
        }
      ]
    },
    {
      "cell_type": "code",
      "source": [
        "h=modelf.predict(x_test)\n",
        "y_pred=h>0.5\n",
        "y_pred=y_pred.astype(int)\n",
        "y_pred.shape\n",
        "#print(y_pred.shape)\n",
        "\n",
        "if (y_pred[1] == 0): #change\n",
        "  print('The person is Normal.')\n",
        "else:\n",
        "  print('The person is having Myocardial Infraction.')\n",
        "\n",
        "  print(y_pred)"
      ],
      "metadata": {
        "id": "lhdxD5TyqLj5",
        "colab": {
          "base_uri": "https://localhost:8080/"
        },
        "outputId": "f6e73a78-b56e-4f0d-bd01-c6b97f6008d2"
      },
      "execution_count": 1078,
      "outputs": [
        {
          "output_type": "stream",
          "name": "stdout",
          "text": [
            "The person is having Myocardial Infraction.\n",
            "[[0]\n",
            " [1]\n",
            " [0]\n",
            " [0]\n",
            " [0]\n",
            " [1]\n",
            " [0]\n",
            " [0]\n",
            " [0]\n",
            " [1]\n",
            " [0]\n",
            " [0]\n",
            " [1]\n",
            " [1]\n",
            " [1]\n",
            " [1]\n",
            " [0]\n",
            " [0]\n",
            " [0]\n",
            " [0]\n",
            " [1]\n",
            " [1]\n",
            " [0]\n",
            " [1]\n",
            " [0]\n",
            " [0]\n",
            " [1]\n",
            " [0]\n",
            " [0]\n",
            " [1]\n",
            " [0]\n",
            " [0]\n",
            " [1]\n",
            " [0]\n",
            " [1]\n",
            " [1]\n",
            " [0]\n",
            " [0]\n",
            " [1]\n",
            " [0]\n",
            " [0]\n",
            " [0]\n",
            " [0]\n",
            " [0]\n",
            " [1]\n",
            " [0]\n",
            " [1]\n",
            " [0]\n",
            " [0]\n",
            " [0]\n",
            " [1]\n",
            " [0]]\n"
          ]
        }
      ]
    },
    {
      "cell_type": "code",
      "source": [
        "cm=confusion_matrix(y_test, y_pred)\n",
        "#print(cm)\n",
        "ax= plt.subplot()\n",
        "sns.heatmap(cm, annot=True, ax = ax); #annot=True to annotate cells\n",
        "# labels, title and ticks\n",
        "ax.set_xlabel('Predicted labels');ax.set_ylabel('True labels'); \n",
        "ax.set_title('Confusion Matrix'); \n",
        "ax.xaxis.set_ticklabels(['Positive', 'Negative']); ax.yaxis.set_ticklabels(['Positive', 'Negative']);"
      ],
      "metadata": {
        "id": "AokJMT-OlrxI",
        "colab": {
          "base_uri": "https://localhost:8080/",
          "height": 295
        },
        "outputId": "2e2a8fe5-9e3e-4b6a-84cc-d2cf32899a92"
      },
      "execution_count": 1079,
      "outputs": [
        {
          "output_type": "display_data",
          "data": {
            "image/png": "[encoded data removed]",
            "text/plain": [
              "<Figure size 432x288 with 2 Axes>"
            ]
          },
          "metadata": {
            "needs_background": "light"
          }
        }
      ]
    },
    {
      "cell_type": "code",
      "source": [
        "accuracy=(cm[0][0]+cm[1][1])/(len(y_test))\n",
        "print('accuracy=',accuracy)"
      ],
      "metadata": {
        "id": "IeFtyYE-qUEg",
        "colab": {
          "base_uri": "https://localhost:8080/"
        },
        "outputId": "e904e01a-ebd0-411e-cfa1-16c67a72395e"
      },
      "execution_count": 1080,
      "outputs": [
        {
          "output_type": "stream",
          "name": "stdout",
          "text": [
            "accuracy= 0.6730769230769231\n"
          ]
        }
      ]
    },
    {
      "cell_type": "code",
      "source": [
        "target_names = ['class 0', 'class 1']\n",
        "print(classification_report(y_test, y_pred, target_names=target_names))"
      ],
      "metadata": {
        "colab": {
          "base_uri": "https://localhost:8080/"
        },
        "id": "M0id7KxQe1Uj",
        "outputId": "e6107714-3894-4f67-ae58-0df8406b934a"
      },
      "execution_count": 1081,
      "outputs": [
        {
          "output_type": "stream",
          "name": "stdout",
          "text": [
            "              precision    recall  f1-score   support\n",
            "\n",
            "     class 0       0.61      0.83      0.70        24\n",
            "     class 1       0.79      0.54      0.64        28\n",
            "\n",
            "    accuracy                           0.67        52\n",
            "   macro avg       0.70      0.68      0.67        52\n",
            "weighted avg       0.70      0.67      0.67        52\n",
            "\n"
          ]
        }
      ]
    }
  ]
}